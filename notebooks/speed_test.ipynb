{
 "cells": [
  {
   "cell_type": "markdown",
   "metadata": {},
   "source": [
    "# Speed tests for DIAG vars"
   ]
  },
  {
   "cell_type": "code",
   "execution_count": 143,
   "metadata": {},
   "outputs": [],
   "source": [
    "import pandas as pd\n",
    "import numpy as np\n",
    "import sys\n",
    "import json\n",
    "import collections\n",
    "\n",
    "def get_outcomes():\n",
    "    \"\"\" Get and return ICD codes \"\"\"\"\"\n",
    "    file = open('../src/icd_codes.json')\n",
    "    outcomes_ = json.load(file)\n",
    "    file.close()\n",
    "    return json.loads(outcomes_[0])\n",
    "\n",
    "outcomes = get_outcomes()\n",
    "icd_date = pd.Timestamp(year=2015, month=10, day=1)\n",
    "diags = [\"DIAG\" + str(num) for num in np.arange(1, 11)]"
   ]
  },
  {
   "cell_type": "code",
   "execution_count": 127,
   "metadata": {},
   "outputs": [],
   "source": [
    "cols = ['QID','ADATE','DDATE','YEAR','DIAG1','DIAG2','DIAG3','DIAG4','DIAG5','DIAG6','DIAG7','DIAG8','DIAG9','DIAG10']\n",
    "filename = \"../data/medpar/medpar_2016.csv\"\n",
    "df = pd.read_csv(filename, usecols=cols, nrows=60000)\n",
    "df['ADATE'] = pd.to_datetime(df['ADATE'], format='%d%b%Y')\n",
    "df['DDATE'] = pd.to_datetime(df['DDATE'], format='%d%b%Y')"
   ]
  },
  {
   "cell_type": "markdown",
   "metadata": {},
   "source": [
    "## Radix tree"
   ]
  },
  {
   "cell_type": "code",
   "execution_count": 128,
   "metadata": {},
   "outputs": [],
   "source": [
    "def add_radix_tree(tree, split):\n",
    "    if split:\n",
    "        node = split.popleft()\n",
    "        if node in tree:\n",
    "            return add_radix_tree(tree[node], split)\n",
    "        else:\n",
    "            tree[node] = {}\n",
    "            return add_radix_tree(tree[node], split)\n",
    "\n",
    "    return collections\n",
    "\n",
    "def build_icd_vocab(codes):\n",
    "    tree = {}\n",
    "    for code in codes:\n",
    "        split = collections.deque(list(code))\n",
    "        add_radix_tree(tree, split)\n",
    "    return tree\n",
    "\n",
    "def codeOfInterest(codeTrie, code):\n",
    "    #print(code)\n",
    "    tempTrie = codeTrie\n",
    "    for letter in code:\n",
    "        if tempTrie:\n",
    "            tempTrie = tempTrie.get(letter)\n",
    "        else: \n",
    "            break\n",
    "    if tempTrie or tempTrie=={}:\n",
    "        return True\n",
    "    else:\n",
    "        return False\n",
    "    \n",
    "vectorCodeOfInterest = np.vectorize(codeOfInterest)"
   ]
  },
  {
   "cell_type": "code",
   "execution_count": 129,
   "metadata": {},
   "outputs": [],
   "source": [
    "def primary_secondary2(primary, secondary, disease_type, outcomes):\n",
    "    codes = outcomes.get(disease_type).get(\"icd9\") + outcomes.get(disease_type).get(\"icd10\")\n",
    "    codeTrie = build_ICD_vocab(codes)\n",
    "    startIndex = df.columns.get_loc(\"DIAG1\")\n",
    "    endIndex = startIndex\n",
    "    if primary and not secondary:\n",
    "        endIndex = startIndex +1\n",
    "    if secondary and not primary:\n",
    "        startIndex = startIndex+1\n",
    "        endIndex = startIndex+9\n",
    "    if primary and secondary:\n",
    "        endIndex = startIndex+10\n",
    "    #oldway\n",
    "    #return np.isin(medPars.iloc[:, startIndex:endIndex], [\"K254\"]).any(axis=1)\n",
    "    returnCol = np.zeros(len(df[\"DIAG1\"]))\n",
    "    for col in df.iloc[:, startIndex:endIndex]:\n",
    "        #print(col)\n",
    "        returnCol += vectorCodeOfInterest(codeTrie, df[col].astype('str'))\n",
    "    return returnCol.astype('bool')"
   ]
  },
  {
   "cell_type": "code",
   "execution_count": 130,
   "metadata": {},
   "outputs": [
    {
     "name": "stdout",
     "output_type": "stream",
     "text": [
      "CPU times: user 233 ms, sys: 3.96 ms, total: 237 ms\n",
      "Wall time: 235 ms\n"
     ]
    }
   ],
   "source": [
    "%%time\n",
    "df[\"aki_primary_secondary_trie\"] = primary_secondary2(True, True, \"aki\", outcomes)"
   ]
  },
  {
   "cell_type": "code",
   "execution_count": 34,
   "metadata": {},
   "outputs": [
    {
     "data": {
      "text/plain": [
       "60000"
      ]
     },
     "execution_count": 34,
     "metadata": {},
     "output_type": "execute_result"
    }
   ],
   "source": [
    "len(primary_secondary_aki)"
   ]
  },
  {
   "cell_type": "markdown",
   "metadata": {},
   "source": [
    "## Dict"
   ]
  },
  {
   "cell_type": "code",
   "execution_count": 131,
   "metadata": {},
   "outputs": [],
   "source": [
    "def primary_secondary(row, outcome=None):\n",
    "    \"\"\" Check all diags - from DIAG1-10 \"\"\"\n",
    "    for diag in diags:\n",
    "        if row[\"DDATE\"] < icd_date and \\\n",
    "            row[diag] in outcomes[outcome][\"icd9\"]:\n",
    "            return True\n",
    "        if row[\"DDATE\"] >= icd_date and \\\n",
    "            row[diag] in outcomes[outcome][\"icd10\"]:\n",
    "            return True\n",
    "    return False "
   ]
  },
  {
   "cell_type": "code",
   "execution_count": 132,
   "metadata": {},
   "outputs": [
    {
     "name": "stdout",
     "output_type": "stream",
     "text": [
      "CPU times: user 4.54 s, sys: 29.7 ms, total: 4.57 s\n",
      "Wall time: 4.58 s\n"
     ]
    }
   ],
   "source": [
    "%%time\n",
    "df[\"aki_primary_secondary\"] = df.apply(\n",
    "    primary_secondary, axis=1, outcome=\"aki\")"
   ]
  },
  {
   "cell_type": "code",
   "execution_count": 136,
   "metadata": {},
   "outputs": [
    {
     "data": {
      "text/plain": [
       "True"
      ]
     },
     "execution_count": 136,
     "metadata": {},
     "output_type": "execute_result"
    }
   ],
   "source": [
    "df['aki_primary_secondary'].equals(df['aki_primary_secondary_trie'])"
   ]
  },
  {
   "cell_type": "markdown",
   "metadata": {},
   "source": [
    "## Sets"
   ]
  },
  {
   "cell_type": "code",
   "execution_count": 144,
   "metadata": {},
   "outputs": [],
   "source": [
    "def primary_secondary_set(outcome=None):\n",
    "    \"\"\" Check all diags - from DIAG1-10 \"\"\"\n",
    "    outcomes_set = outcomes[outcome][\"icd10\"] + outcomes[outcome][\"icd9\"]\n",
    "\n",
    "    return_col = pd.Series([False] * len(df))\n",
    "    for col in diags:\n",
    "        return_col = return_col | df[col].isin(outcomes_set)\n",
    "    return return_col "
   ]
  },
  {
   "cell_type": "code",
   "execution_count": 145,
   "metadata": {},
   "outputs": [
    {
     "name": "stdout",
     "output_type": "stream",
     "text": [
      "CPU times: user 57.6 ms, sys: 2.99 ms, total: 60.6 ms\n",
      "Wall time: 58.3 ms\n"
     ]
    }
   ],
   "source": [
    "%%time\n",
    "df[\"aki_primary_secondary_set\"] = primary_secondary_set(outcome=\"aki\")"
   ]
  },
  {
   "cell_type": "code",
   "execution_count": 146,
   "metadata": {},
   "outputs": [
    {
     "data": {
      "text/plain": [
       "True"
      ]
     },
     "execution_count": 146,
     "metadata": {},
     "output_type": "execute_result"
    }
   ],
   "source": [
    "df['aki_primary_secondary_set'].equals(df['aki_primary_secondary'])"
   ]
  },
  {
   "cell_type": "markdown",
   "metadata": {},
   "source": [
    "# Compare existing and new DIAG vars"
   ]
  },
  {
   "cell_type": "code",
   "execution_count": 158,
   "metadata": {},
   "outputs": [],
   "source": [
    "# newst DIAG vars\n",
    "\n",
    "li = []\n",
    "for year in range(2000, 2017):\n",
    "    filename = \"../data/medpar_vars/medpar_\" + str(year) + \"_sets.parquet\"\n",
    "    df = pd.read_parquet(filename, columns=['aki_primary_secondary'])\n",
    "    li.append(df)\n",
    "admissions = pd.concat(li, axis=0, ignore_index=True)"
   ]
  },
  {
   "cell_type": "code",
   "execution_count": 159,
   "metadata": {},
   "outputs": [
    {
     "data": {
      "text/plain": [
       "False    121622157\n",
       "True      15888017\n",
       "Name: aki_primary_secondary, dtype: int64"
      ]
     },
     "execution_count": 159,
     "metadata": {},
     "output_type": "execute_result"
    }
   ],
   "source": [
    "admissions['aki_primary_secondary'].value_counts()"
   ]
  },
  {
   "cell_type": "code",
   "execution_count": null,
   "metadata": {},
   "outputs": [],
   "source": [
    "# old DIAG vars:"
   ]
  },
  {
   "cell_type": "code",
   "execution_count": 196,
   "metadata": {},
   "outputs": [],
   "source": [
    "df3= pd.read_csv(\"../data/medpar_vars/medpar_n2015.csv\")"
   ]
  },
  {
   "cell_type": "code",
   "execution_count": 197,
   "metadata": {},
   "outputs": [],
   "source": [
    "filename = \"../data/medpar_vars/medpar_2015_sets.parquet\"\n",
    "df1 = pd.read_parquet(filename)"
   ]
  },
  {
   "cell_type": "code",
   "execution_count": 168,
   "metadata": {},
   "outputs": [],
   "source": [
    "pom1 = df1[['QID','all_kidney_primary']]\n",
    "pom2 = df2[['QID','all_kidney_primary']]"
   ]
  },
  {
   "cell_type": "code",
   "execution_count": 173,
   "metadata": {},
   "outputs": [
    {
     "data": {
      "text/plain": [
       "5830981"
      ]
     },
     "execution_count": 173,
     "metadata": {},
     "output_type": "execute_result"
    }
   ],
   "source": [
    "len(pom2['QID'].unique()) # 5249472 vs 5830981"
   ]
  },
  {
   "cell_type": "code",
   "execution_count": 198,
   "metadata": {},
   "outputs": [
    {
     "data": {
      "text/plain": [
       "True    7157199\n",
       "dtype: int64"
      ]
     },
     "execution_count": 198,
     "metadata": {},
     "output_type": "execute_result"
    }
   ],
   "source": [
    "of_interest_cols = [outcome + \"_secondary\" for outcome in outcomes]\n",
    "of_interest_cols = of_interest_cols + [outcome + \"_primary\" for outcome in outcomes]\n",
    "mask = df1[of_interest_cols].any(axis=1)\n",
    "mask.value_counts()"
   ]
  },
  {
   "cell_type": "markdown",
   "metadata": {},
   "source": [
    "## Diag vars are all the same!!"
   ]
  },
  {
   "cell_type": "code",
   "execution_count": 181,
   "metadata": {},
   "outputs": [],
   "source": [
    "# df1 -- True    8678219\n",
    "# df2 -- True     8678219\n",
    "# df2 -- False    1064568\n",
    "# df3 (csv) -- True 8678219"
   ]
  },
  {
   "cell_type": "code",
   "execution_count": 212,
   "metadata": {},
   "outputs": [
    {
     "data": {
      "text/plain": [
       "False    6945916\n",
       "True      211283\n",
       "Name: aki_primary, dtype: int64"
      ]
     },
     "execution_count": 212,
     "metadata": {},
     "output_type": "execute_result"
    }
   ],
   "source": [
    "df1['aki_primary'].value_counts()"
   ]
  },
  {
   "cell_type": "code",
   "execution_count": 213,
   "metadata": {},
   "outputs": [
    {
     "data": {
      "text/plain": [
       "False    6945891\n",
       "True      211283\n",
       "Name: aki_primary, dtype: int64"
      ]
     },
     "execution_count": 213,
     "metadata": {},
     "output_type": "execute_result"
    }
   ],
   "source": [
    "df3['aki_primary'].value_counts()"
   ]
  },
  {
   "cell_type": "code",
   "execution_count": 202,
   "metadata": {},
   "outputs": [
    {
     "data": {
      "text/plain": [
       "7157199"
      ]
     },
     "execution_count": 202,
     "metadata": {},
     "output_type": "execute_result"
    }
   ],
   "source": [
    "len(df1)"
   ]
  },
  {
   "cell_type": "markdown",
   "metadata": {},
   "source": [
    "Therefore the error is probably with first_hosp count or denom calc\n",
    "\n",
    "## Compare dask / no_dask vars"
   ]
  },
  {
   "cell_type": "code",
   "execution_count": 229,
   "metadata": {},
   "outputs": [],
   "source": [
    "df=pd.read_csv(\"../data/medpar_all/medpar_no_dask.csv\",usecols=['aki_primary_first_hosp'])"
   ]
  },
  {
   "cell_type": "code",
   "execution_count": 230,
   "metadata": {},
   "outputs": [
    {
     "data": {
      "text/plain": [
       "False    135275329\n",
       "True       2234820\n",
       "Name: aki_primary_first_hosp, dtype: int64"
      ]
     },
     "execution_count": 230,
     "metadata": {},
     "output_type": "execute_result"
    }
   ],
   "source": [
    "print(df['aki_primary_first_hosp'].value_counts())"
   ]
  },
  {
   "cell_type": "code",
   "execution_count": 233,
   "metadata": {},
   "outputs": [],
   "source": [
    "df=pd.read_csv(\"../data/medpar_all/medpar.csv\",usecols=['aki_secondary_first_hosp'])"
   ]
  },
  {
   "cell_type": "code",
   "execution_count": 236,
   "metadata": {},
   "outputs": [
    {
     "name": "stdout",
     "output_type": "stream",
     "text": [
      "False    129012604\n",
      "True       8497545\n",
      "Name: aki_secondary_first_hosp, dtype: int64\n"
     ]
    }
   ],
   "source": [
    "print(df['aki_secondary_first_hosp'].value_counts())"
   ]
  },
  {
   "cell_type": "markdown",
   "metadata": {},
   "source": [
    "## medpar_no_dask.csv\n",
    "\n",
    "aki_primary_first_hosp\n",
    "```\n",
    "False    135275329\n",
    "True       2234820\n",
    "```\n",
    "\n",
    "## medpar.csv\n",
    "\n",
    "aki_primary_first_hosp\n",
    "```\n",
    "False    135275329\n",
    "True       2234820\n",
    "```\n",
    "\n",
    "## medpar.csv\n",
    "aki_secondary_first_hosp\n",
    "```\n",
    "False    129012604\n",
    "True       8497545\n",
    "```"
   ]
  },
  {
   "cell_type": "code",
   "execution_count": 235,
   "metadata": {},
   "outputs": [
    {
     "data": {
      "text/plain": [
       "10732365"
      ]
     },
     "execution_count": 235,
     "metadata": {},
     "output_type": "execute_result"
    }
   ],
   "source": [
    "2234820+8497545"
   ]
  },
  {
   "cell_type": "code",
   "execution_count": 239,
   "metadata": {},
   "outputs": [],
   "source": [
    "# Ben's total AKI first hosp (primary-secondary in one) \n",
    "#  9,272,274\n",
    "# 10,732,365"
   ]
  },
  {
   "cell_type": "markdown",
   "metadata": {},
   "source": [
    "### Diag vars were FINE the whole time, but now they are faster."
   ]
  },
  {
   "cell_type": "code",
   "execution_count": null,
   "metadata": {},
   "outputs": [],
   "source": []
  }
 ],
 "metadata": {
  "kernelspec": {
   "display_name": "Python 3",
   "language": "python",
   "name": "python3"
  },
  "language_info": {
   "codemirror_mode": {
    "name": "ipython",
    "version": 3
   },
   "file_extension": ".py",
   "mimetype": "text/x-python",
   "name": "python",
   "nbconvert_exporter": "python",
   "pygments_lexer": "ipython3",
   "version": "3.8.5"
  }
 },
 "nbformat": 4,
 "nbformat_minor": 4
}
